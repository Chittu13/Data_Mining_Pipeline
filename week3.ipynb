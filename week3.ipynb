{
 "cells": [
  {
   "cell_type": "markdown",
   "metadata": {
    "deletable": false,
    "editable": false,
    "nbgrader": {
     "cell_type": "markdown",
     "checksum": "45afe8e1386bb813621db67c1e85d2c1",
     "grade": false,
     "grade_id": "cell-8a70a56233894d42",
     "locked": true,
     "schema_version": 3,
     "solution": false,
     "task": false
    }
   },
   "source": [
    "# Homework 2\n",
    "***\n",
    "**Name**: $<$insert name here$>$ \n",
    "***\n",
    "\n",
    "Remember that you are encouraged to discuss the problems with your instructors and classmates, but **you must write all code and solutions on your own**."
   ]
  },
  {
   "cell_type": "markdown",
   "metadata": {
    "deletable": false,
    "editable": false,
    "nbgrader": {
     "cell_type": "markdown",
     "checksum": "1b98fbdff894309fe3937b7d4d55eb34",
     "grade": false,
     "grade_id": "cell-d3925f1a2ed0ba39",
     "locked": true,
     "schema_version": 3,
     "solution": false,
     "task": false
    }
   },
   "source": [
    "The rules to be followed for the assignment are:\n",
    "\n",
    "- Do **NOT** load additional packages beyond what we've shared in the cells below. \n",
    "- Some problems with code may be autograded.  If we provide a function or class API **do not** change it.\n",
    "- Do not change the location of the data or data directory.  Use only relative paths to access the data. "
   ]
  },
  {
   "cell_type": "code",
   "execution_count": 15,
   "metadata": {
    "ExecuteTime": {
     "end_time": "2020-09-10T01:22:03.370195Z",
     "start_time": "2020-09-10T01:22:02.356211Z"
    },
    "deletable": false,
    "editable": false,
    "nbgrader": {
     "cell_type": "code",
     "checksum": "728bb8c12435a7d8af07857e799b9025",
     "grade": false,
     "grade_id": "cell-76950cd59a275b9b",
     "locked": true,
     "schema_version": 3,
     "solution": false,
     "task": false
    }
   },
   "outputs": [],
   "source": [
    "import pandas as pd\n",
    "import numpy as np\n",
    "import pickle\n",
    "from pathlib import Path\n",
    "import math"
   ]
  },
  {
   "cell_type": "markdown",
   "metadata": {
    "deletable": false,
    "editable": false,
    "nbgrader": {
     "cell_type": "markdown",
     "checksum": "3c78a88f5de1e17ba4a6a9bc1ce64784",
     "grade": false,
     "grade_id": "cell-eeb3bd05ca5a2672",
     "locked": true,
     "schema_version": 3,
     "solution": false,
     "task": false
    }
   },
   "source": [
    "### Problem 1\n",
    "***\n",
    "\n",
    "There are two functions that need to be completed:\n",
    "\n",
    "#### normalization(fname, attr, normType)\n",
    "\n",
    "- This function takes in the location of the data file, the attribute that has to be normalised (one of the values from 'Open','High','Low','Close','Volume', given as column indices) and the type of normalization to be performed ('min_max' or 'z_score')\n",
    "\n",
    "- Based on the normalisation type that is mentioned, you will have to apply the appropriate formula and return a dictionary where key = original value in the dataset, value = normalised value\n",
    "\n",
    "- A sample dataset has been provided to you at this location \"./data/HistoricalQuotes.csv\". Use this dataset to test the functionality you are building.\n",
    "\n",
    "#### correlation (fname1, attr1, fname2, attr2)\n",
    "\n",
    "- This function takes in the location of the first data file, the attribute that has to be used in the first file, the location of the second data file and the attribute that has to be used in the second file.\n",
    "\n",
    "- This function has to calculate the correlation coefficient between the two attributes mentioned in the two files.\n",
    "\n",
    "- Two Sample datasets have been provided to you in \"./data/test1.csv\" and \"./data/test2.csv\" respectively.\n",
    "\n",
    "- The two sample files have the following attributes 'Open','High','Last','Low','Volume'. Use these two sample files to test the functionality you are building.\n",
    "\n",
    "Note:\n",
    "- If the test case fails, one way to debug is to see the output of the testing data and comparing it to your output.\n",
    "- Initially the test case will be failed as there is no code in the below two functions."
   ]
  },
  {
   "cell_type": "code",
   "execution_count": 16,
   "metadata": {
    "ExecuteTime": {
     "end_time": "2020-09-10T01:24:33.428213Z",
     "start_time": "2020-09-10T01:24:33.423898Z"
    },
    "deletable": false,
    "nbgrader": {
     "cell_type": "code",
     "checksum": "5bc7e76c2c1a5ce1942a310ff8c6ce8f",
     "grade": false,
     "grade_id": "normalization",
     "locked": false,
     "schema_version": 3,
     "solution": true,
     "task": false
    }
   },
   "outputs": [],
   "source": [
    "def normalization (fname, attr, normType):\n",
    "    '''\n",
    "    Input Parameters:\n",
    "        fname: Name of the csv file contiaining historical quotes\n",
    "        attr: The attribute to be normalized \n",
    "        normType: The type of normalization \n",
    "    Output:\n",
    "        a dictionary where each key is the original column value and each value is the normalised column value. \n",
    "    '''\n",
    "\n",
    "    df = pd.read_csv(fname)\n",
    "    selected_column = df.iloc[:, attr]\n",
    "    normalized_dict = {}\n",
    "    \n",
    "    if normType == \"min_max\":\n",
    "        min_val = selected_column.min()\n",
    "        max_val = selected_column.max()\n",
    "        for value in selected_column:\n",
    "            normalized_value = (value - min_val) / (max_val - min_val)\n",
    "            normalized_dict[value] = normalized_value\n",
    "    elif normType == \"z_score\":\n",
    "        mean_val = selected_column.mean()\n",
    "        std_dev = selected_column.std()\n",
    "        for value in selected_column:\n",
    "            normalized_value = (value - mean_val) / std_dev\n",
    "            normalized_dict[value] = normalized_value\n",
    "    else:\n",
    "        raise ValueError(\"Invalid normalization type. Use 'min_max' or 'z_score'.\")\n",
    "    \n",
    "   \n",
    "    \n",
    "    return normalized_dict\n",
    "\n",
    "\n"
   ]
  },
  {
   "cell_type": "code",
   "execution_count": 5,
   "metadata": {
    "deletable": false,
    "editable": false,
    "nbgrader": {
     "cell_type": "code",
     "checksum": "2e0d7d290878957d9535e285ed9ba393",
     "grade": true,
     "grade_id": "test_normalization",
     "locked": true,
     "points": 3,
     "schema_version": 3,
     "solution": false,
     "task": false
    }
   },
   "outputs": [
    {
     "data": {
      "text/plain": [
       "'\\nThis cell has hidden test cases that will run after you submit your assignment. \\nYou can troubleshoot using the unit tests we shared below.\\n'"
      ]
     },
     "execution_count": 5,
     "metadata": {},
     "output_type": "execute_result"
    }
   ],
   "source": [
    "'''\n",
    "This cell has hidden test cases that will run after you submit your assignment. \n",
    "You can troubleshoot using the unit tests we shared below.\n",
    "'''\n"
   ]
  },
  {
   "cell_type": "code",
   "execution_count": 17,
   "metadata": {
    "ExecuteTime": {
     "end_time": "2020-09-10T01:24:55.210777Z",
     "start_time": "2020-09-10T01:24:55.201476Z"
    },
    "deletable": false,
    "nbgrader": {
     "cell_type": "code",
     "checksum": "862c679b0e1c220375a75868ae05a503",
     "grade": false,
     "grade_id": "correlation",
     "locked": false,
     "schema_version": 3,
     "solution": true,
     "task": false
    }
   },
   "outputs": [],
   "source": [
    "def correlation (fname1, attr1, fname2, attr2):\n",
    "    '''\n",
    "    Input Parameters:\n",
    "        fname1: name of the first csv file containing historical quotes\n",
    "        attr1: The attribute to consider in the first csv file (fname1)\n",
    "        fname2: name of the second csv file containing historical quotes\n",
    "        attr2: The attribute to consider in the second csv file (fname2)\n",
    "        \n",
    "    Output:\n",
    "        correlation coefficient between attr1 in fname1 and attr2 in fname2\n",
    "    '''\n",
    "    df1 = pd.read_csv(fname1)\n",
    "    df2 = pd.read_csv(fname2)\n",
    "    selected_column1 = df1.iloc[:, attr1]\n",
    "    selected_column2 = df2.iloc[:, attr2]\n",
    "    \n",
    "    correlation_coefficient = selected_column1.corr(selected_column2)\n",
    "    \n",
    "    return correlation_coefficient\n",
    "        \n",
    "  \n"
   ]
  },
  {
   "cell_type": "code",
   "execution_count": 7,
   "metadata": {
    "deletable": false,
    "editable": false,
    "nbgrader": {
     "cell_type": "code",
     "checksum": "6f543a7eb3374de561e6640f3101fb49",
     "grade": true,
     "grade_id": "test_correlation",
     "locked": true,
     "points": 3,
     "schema_version": 3,
     "solution": false,
     "task": false
    }
   },
   "outputs": [
    {
     "data": {
      "text/plain": [
       "'\\nThis cell has hidden test cases that will run after you submit your assignment. \\nYou can troubleshoot using the unit tests we shared below.\\n'"
      ]
     },
     "execution_count": 7,
     "metadata": {},
     "output_type": "execute_result"
    }
   ],
   "source": [
    "'''\n",
    "This cell has hidden test cases that will run after you submit your assignment. \n",
    "You can troubleshoot using the unit tests we shared below.\n",
    "'''\n"
   ]
  },
  {
   "cell_type": "code",
   "execution_count": 18,
   "metadata": {
    "ExecuteTime": {
     "end_time": "2020-09-10T01:28:36.101216Z",
     "start_time": "2020-09-10T01:28:36.049564Z"
    },
    "deletable": false,
    "editable": false,
    "nbgrader": {
     "cell_type": "code",
     "checksum": "e26989a1a0f566bbde748e091e86193c",
     "grade": false,
     "grade_id": "cell-073dcfbad9049939",
     "locked": true,
     "schema_version": 3,
     "solution": false,
     "task": false
    }
   },
   "outputs": [
    {
     "name": "stderr",
     "output_type": "stream",
     "text": [
      "...\n",
      "----------------------------------------------------------------------\n",
      "Ran 3 tests in 0.034s\n",
      "\n",
      "OK\n"
     ]
    },
    {
     "data": {
      "text/plain": [
       "<unittest.runner.TextTestResult run=3 errors=0 failures=0>"
      ]
     },
     "execution_count": 18,
     "metadata": {},
     "output_type": "execute_result"
    }
   ],
   "source": [
    "import unittest\n",
    "\n",
    "class TestKnn(unittest.TestCase):\n",
    "    def setUp(self):\n",
    "        self.loc1 = \"data/test1.csv\"\n",
    "        self.loc2 = \"data/test2.csv\"\n",
    "        file = open('data/testing_normalization', 'rb')\n",
    "        self.data_normalization = pickle.load(file)\n",
    "        file.close()\n",
    "        file = open('data/testing_correlation', 'rb')\n",
    "        self.data_correlation = pickle.load(file)\n",
    "        file.close()\n",
    "        file = open('data/testing_zscore', 'rb')\n",
    "        self.zscore = pickle.load(file)\n",
    "        \n",
    "    def test0(self):\n",
    "        \"\"\"\n",
    "        Test min_max normalization \n",
    "        \"\"\"\n",
    "        result = normalization(\"./data/normalization_test_data.csv\", 0, \"min_max\")\n",
    "        for key,value in self.data_normalization.items():\n",
    "            self.assertAlmostEqual(result[key],value, places = 1)\n",
    "            \n",
    "    \n",
    "    def test1(self):\n",
    "        \"\"\"\n",
    "        Test zcore normalization\n",
    "        \"\"\"\n",
    "        result = normalization(\"./data/normalization_test_data.csv\", 1, \"z_score\")\n",
    "        for key, value in self.zscore.items():\n",
    "            self.assertAlmostEqual(result[key], value, places = 1)\n",
    "    \n",
    "    def test2(self):\n",
    "        \"\"\"\n",
    "        Test correlation \n",
    "        \"\"\"\n",
    "        result = correlation('./data/correlation_test_data.csv', 0, \"./data/correlation_test_data.csv\", 0)\n",
    "        self.assertAlmostEqual(result,self.data_correlation, places = 1)\n",
    "       \n",
    "   \n",
    "tests = TestKnn()\n",
    "tests_to_run = unittest.TestLoader().loadTestsFromModule(tests)\n",
    "unittest.TextTestRunner().run(tests_to_run)"
   ]
  },
  {
   "cell_type": "markdown",
   "metadata": {
    "deletable": false,
    "editable": false,
    "nbgrader": {
     "cell_type": "markdown",
     "checksum": "288051f75f190c1b29700f8c866f0c4a",
     "grade": false,
     "grade_id": "cell-1d57af814dafe68f",
     "locked": true,
     "schema_version": 3,
     "solution": false,
     "task": false
    }
   },
   "source": [
    "### Problem 2\n",
    "***\n",
    "\n",
    "There are 4 functions that need to be completed:\n",
    "\n",
    "1. For each of the graphs, the input function parameters and the expected output has been mentioned below.\n",
    "2. Use the dataset provided in \"./data/HistoricalQuotes.csv\" to plot the below graphs.\n",
    "3. Instructions have been provided within each function regarding which attributes to choose from.\n",
    "4. The dataset has the following attributes\n",
    "    - Date\n",
    "    - Close\n",
    "    - Volume\n",
    "    - Open\n",
    "    - High\n",
    "    - Low\n",
    "\n",
    "Note:\n",
    "- Make sure the dataset you are using is the one mentioned in the problem statement.\n",
    "- After defining your functions. Create another block to call these functions by passing the attributes mentioned in canvas."
   ]
  },
  {
   "cell_type": "code",
   "execution_count": 9,
   "metadata": {
    "deletable": false,
    "editable": false,
    "nbgrader": {
     "cell_type": "code",
     "checksum": "aff2da14c79cd0b36f2d98169672690e",
     "grade": false,
     "grade_id": "cell-09f7dfae43c9f6f8",
     "locked": true,
     "schema_version": 3,
     "solution": false,
     "task": false
    }
   },
   "outputs": [],
   "source": [
    "import matplotlib\n",
    "# Plot size to 14\" x 7\"\n",
    "matplotlib.rc('figure', figsize = (14, 7))\n",
    "# Font size to 14\n",
    "matplotlib.rc('font', size = 14)\n",
    "# Do not display top and right frame lines\n",
    "matplotlib.rc('axes.spines', top = False, right = False)\n",
    "# Remove grid lines\n",
    "matplotlib.rc('axes', grid = False)\n",
    "# Set backgound color to white\n",
    "matplotlib.rc('axes', facecolor = 'white')"
   ]
  },
  {
   "cell_type": "code",
   "execution_count": 66,
   "metadata": {
    "deletable": false,
    "nbgrader": {
     "cell_type": "code",
     "checksum": "8e320e21e3a51c6fc38e1065a5fce7b8",
     "grade": false,
     "grade_id": "cell-f262493a60cd8007",
     "locked": false,
     "schema_version": 3,
     "solution": true,
     "task": false
    }
   },
   "outputs": [],
   "source": [
    "def temporal_graph():\n",
    "    '''Input : x_data and y_data are the lists containing the data points for x and y axis\n",
    "    xlabel and ylabel are the labels that should be given to the corresponding axes\n",
    "    title contains the title of the graph\n",
    "    \n",
    "    Output : \n",
    "    Plot the temporal change of attributes High and Low values\n",
    "    Return a temporal graph with attributes Date on x-axis and a tuple of High and Low on y-axis displayed\n",
    "    \n",
    "    x_data - a python list of Dates using \"Date\" attribute from the dataset\n",
    "    y_data - a tuple of the High and Low values respectively. 'High' and 'Low' should be stored as python lists.\n",
    "             Ex: y_data = (list(df['attr_1']), list(df['attr_2']))\n",
    "    xlabel, ylabel - A string value representing the axes labels\n",
    "    title - A string representing the title for the graph\n",
    "    '''\n",
    "    \n",
    "    df = pd.read_csv('./data/HistoricalQuotes.csv')\n",
    "    \n",
    "    # your code here\n",
    "    x_data = list(df[\"Date\"])\n",
    "    y_data = (list(df['High']) , list(df['Low']))\n",
    "    xlabel = \"Date\"\n",
    "    ylabel = \"High - Low\"\n",
    "    title = \"temporal_graph\"\n",
    "    \n",
    "    return x_data,y_data,xlabel,ylabel,title"
   ]
  },
  {
   "cell_type": "code",
   "execution_count": 11,
   "metadata": {
    "deletable": false,
    "editable": false,
    "nbgrader": {
     "cell_type": "code",
     "checksum": "10b78e6a952ddec151b6ef22c38ec8db",
     "grade": true,
     "grade_id": "cell-a8a9dace8000b375",
     "locked": true,
     "points": 2,
     "schema_version": 3,
     "solution": false,
     "task": false
    }
   },
   "outputs": [
    {
     "data": {
      "text/plain": [
       "'\\nThis cell has hidden test cases that will run after you submit your assignment. \\nYou can troubleshoot by calling the function and checking return types.\\n'"
      ]
     },
     "execution_count": 11,
     "metadata": {},
     "output_type": "execute_result"
    }
   ],
   "source": [
    "'''\n",
    "This cell has hidden test cases that will run after you submit your assignment. \n",
    "You can troubleshoot by calling the function and checking return types.\n",
    "'''\n"
   ]
  },
  {
   "cell_type": "code",
   "execution_count": 67,
   "metadata": {
    "deletable": false,
    "nbgrader": {
     "cell_type": "code",
     "checksum": "ef467c73f896a2883c3e1bc51d35c11f",
     "grade": false,
     "grade_id": "cell-51ff89ef927d6018",
     "locked": false,
     "schema_version": 3,
     "solution": true,
     "task": false
    }
   },
   "outputs": [
    {
     "data": {
      "image/png": "[encoded data removed]",
      "text/plain": [
       "<Figure size 1008x504 with 1 Axes>"
      ]
     },
     "metadata": {
      "needs_background": "light"
     },
     "output_type": "display_data"
    },
    {
     "name": "stdout",
     "output_type": "stream",
     "text": [
      "x_data: ([38.52, 41.2, 42.74, 41.52, 40.61, 40.99, 40.5, 40.97, 40.55, 40.44, 39.68, 38.99, 38.62, 38.09, 38.28, 37.95, 37.74, 37.43, 37.5, 37.59, 38.36, 37.42, 36.85, 36.56, 35.92, 36.41, 37.33, 36.73, 36.97, 36.45, 37.58, 38.28, 37.65, 36.97, 37.79, 35.8, 35.31, 34.13, 35.12, 33.53, 35.72, 35.46, 35.88, 33.2, 31.96, 31.55, 31.3, 30.15, 29.63, 28.51, 31.12, 31.54, 32.53, 33.75, 33.57, 34.64, 34.3, 34.49, 35.14, 32.91, 33.94, 33.13, 36.12, 35.99, 35.96, 34.47, 34.5, 32.61, 32.19, 31.06, 31.56, 31.5, 33.63, 33.6, 32.38, 32.1, 30.5, 29.7, 29.7, 28.3, 27.83, 29.24, 29.85, 29.65, 29.09, 28.08, 28.35, 28.67, 27.6, 28.0, 28.79, 30.06, 30.4, 29.13, 27.99, 28.43, 27.0, 26.39, 26.31, 27.16, 26.86, 27.1, 28.0, 27.55, 28.48, 26.785, 25.97, 24.1, 24.1, 23.0, 23.7, 25.79, 25.25, 25.56, 26.15, 25.85, 25.79, 23.8, 24.97, 22.11, 22.95, 24.38, 26.12, 28.83, 29.08, 33.3, 33.9, 31.81, 33.81, 35.03, 35.76, 36.02, 36.0, 31.86, 33.73, 35.28, 36.18, 36.5, 38.67, 38.76, 38.09, 36.78, 37.0, 36.43, 36.19, 36.12, 36.63, 37.63, 36.53, 34.0, 33.75, 32.56, 33.11, 32.86, 33.59, 33.06, 32.31, 34.11, 33.99, 34.29, 34.08, 33.82, 33.5, 32.99, 32.69, 32.97, 32.86, 33.53, 32.35, 31.8, 31.23, 31.71, 32.31, 31.86, 32.49, 32.75, 32.59, 32.44, 32.13, 32.12, 31.75, 30.69, 31.07, 30.52, 30.24, 30.47, 29.95, 30.23, 30.12, 30.35, 30.08, 30.18, 29.94, 30.91, 31.11, 31.0, 30.57, 30.13, 29.87, 29.2, 29.3, 29.62, 29.24, 29.05, 29.16, 29.04, 29.36, 29.13, 29.16, 29.0, 29.85, 30.19, 29.77, 29.96, 29.47, 30.15, 30.0, 30.5, 30.87, 31.86, 38.99, 40.48, 39.35, 39.69, 40.12, 40.01, 39.56, 40.32, 39.89, 39.34, 39.99, 40.412, 40.24, 40.36, 39.59, 40.12, 41.32, 41.46, 42.5, 42.38, 41.51, 43.71, 43.29, 43.16, 43.19, 43.21, 42.9, 42.4, 43.15, 43.76, 43.55, 43.9, 45.6, 45.22, 43.78, 42.49, 42.38, 42.7, 42.25, 41.75, 42.01, 41.4, 41.82, 42.85, 42.83, 41.64, 41.1, 40.3, 40.9, 41.03, 40.41, 41.1, 41.78, 42.11, 40.51, 40.92, 41.58, 41.82, 42.54, 41.08, 41.08, 41.5, 40.07, 39.0, 38.0, 37.87, 36.92, 37.96, 37.39, 37.86, 38.78, 38.0, 37.37, 37.66, 37.9, 36.35, 36.04, 36.0, 36.29, 36.17, 35.5, 34.75, 35.44, 34.98, 35.52, 35.19, 35.5, 36.35, 36.63, 36.71, 36.26, 36.36, 37.04, 37.13, 38.09, 38.35, 36.87, 36.26, 36.5, 35.18, 36.45, 36.62, 37.0, 37.02, 37.41, 37.47, 38.15, 37.41, 37.47, 37.12, 37.83, 38.11, 36.67, 37.04, 37.5, 38.68, 38.11, 38.45, 39.9, 39.69, 40.48, 39.24, 40.0, 39.79, 38.63, 38.59, 39.26, 39.86, 36.93, 34.4, 34.67, 34.73, 34.84, 34.38, 34.67, 34.75, 35.26, 34.84, 34.79, 34.55, 34.7, 34.0, 33.44, 33.16, 33.1, 32.29, 32.93, 32.98, 32.83, 32.5, 32.31, 31.24, 31.15, 31.25, 31.04, 31.28, 31.31, 31.15, 30.24, 29.64, 30.76, 30.94, 30.5, 30.78, 31.17, 30.25, 30.95, 31.89, 31.99, 30.81, 31.36, 31.71, 31.23, 31.2, 30.86, 30.57, 30.44, 30.17, 30.47, 31.17, 35.05, 34.29, 33.34, 33.56, 33.07, 32.04, 33.33, 32.65, 31.99, 30.94, 32.26, 32.97, 33.05, 32.47, 33.1, 32.51, 32.38, 32.85, 33.08, 31.8, 31.7, 30.2, 28.39, 28.38, 28.26, 28.6, 28.93, 28.14, 27.0, 26.55, 29.31, 32.59, 33.71, 33.63, 35.68, 35.25, 36.4, 34.97, 34.13, 32.73, 32.84, 32.46, 33.28, 32.24, 31.15, 32.46, 33.0, 32.44, 31.596999999999998, 31.3, 31.67, 29.97, 33.56, 32.83, 32.79, 32.89, 32.24, 34.0, 33.75, 34.88, 34.75, 33.96, 34.26, 34.87, 34.6, 34.37, 31.77, 32.46, 31.2, 31.32, 28.85, 28.48, 29.05, 29.33, 29.4, 29.95, 29.1, 27.85, 28.09, 26.351, 29.12, 28.7, 28.21, 28.34, 28.75, 28.38, 28.14, 28.51, 29.25, 29.06, 29.2, 28.75, 28.33, 29.86, 29.7, 29.15, 28.84, 29.05, 30.45, 30.1, 30.61, 30.44, 30.5, 30.31, 32.86, 34.65, 34.75, 35.57, 35.27, 35.41, 35.98, 34.66, 34.0, 33.9, 33.45, 32.75, 32.79, 32.74, 32.7, 32.81, 33.4, 32.04, 31.65, 31.85, 32.75, 33.1, 31.82, 32.58, 31.58, 32.25, 31.95, 34.17, 37.25, 42.87, 42.35, 43.77, 43.45, 43.5, 43.27, 44.19, 43.59, 44.3, 45.28, 44.8, 42.63, 44.2, 46.74, 44.91, 44.07, 45.36, 43.06, 45.05, 43.65, 45.5, 44.36, 45.47, 45.58, 46.36, 45.56, 45.19, 45.335, 46.62, 44.55, 44.24, 42.47, 41.42, 39.49, 40.14, 39.42, 39.53, 36.45, 35.14, 34.39, 34.2, 33.42, 33.54, 33.44, 32.7, 33.78, 33.02, 32.55, 32.78, 32.75, 33.17, 33.07, 32.94, 32.71, 32.07, 31.2, 31.06, 30.22, 30.21, 30.0, 30.21, 28.62, 30.17, 30.35, 31.35, 31.18, 32.51, 32.65, 31.37, 31.67, 29.45, 28.85, 29.24, 29.89, 29.46, 28.36, 28.1, 28.28, 28.51, 26.85, 28.36, 28.37, 28.76, 27.78, 31.85, 31.69, 31.26, 31.77, 32.19, 34.92, 35.13, 36.0, 36.41, 34.3, 35.4, 35.53, 35.2, 35.42, 33.99, 34.58, 32.9, 31.93, 31.95, 31.5, 31.91, 32.7, 32.2, 33.43, 33.03, 32.88, 33.37, 34.03, 32.85, 30.67, 31.44, 30.37, 34.15, 25.83, 24.59, 25.37, 26.56, 25.52, 25.61, 24.83, 24.4, 22.39, 22.5, 22.84, 22.51, 23.17, 24.12, 24.5, 24.84, 25.58, 24.94, 24.3, 24.0, 24.63, 24.37, 24.07, 24.5, 24.56, 24.07, 24.27, 24.25, 24.26, 24.26, 25.03, 25.06, 25.44, 24.61, 23.23, 22.61, 21.79, 21.77, 22.01, 21.1, 21.15, 21.12, 20.52, 20.3, 20.85, 20.52, 21.01, 21.82, 21.85, 22.36, 22.4, 21.9, 21.2, 20.78, 20.26, 20.06, 19.82, 20.17, 20.16, 19.79, 19.4, 19.7, 19.55, 19.78, 19.87, 20.5, 20.74, 21.26, 21.4, 20.18, 19.22, 17.2, 17.5, 17.94, 17.98, 17.84, 18.23, 18.31, 18.59, 18.45, 17.77, 17.47, 17.77, 17.82, 18.03, 17.8, 17.82, 17.13, 16.8, 16.89, 16.87, 16.9, 17.03, 17.6, 17.49, 17.6, 17.8, 17.66, 18.01, 18.25, 18.15, 18.15, 17.7, 17.47, 17.19, 16.85, 16.65, 16.82, 16.97, 16.99, 16.92, 16.61, 16.61, 16.65, 17.07, 16.46, 16.14, 16.0, 15.85, 16.15, 15.97, 16.12, 16.15, 15.67, 16.03, 16.04, 16.33, 16.38, 16.2, 16.07, 16.21, 16.2, 16.6, 16.66, 17.36, 20.0, 19.98, 20.28, 20.35, 20.18, 20.03, 19.76, 19.8, 19.35, 19.54, 18.92, 18.14, 18.05, 18.0, 17.65, 17.68, 17.94, 17.66, 17.93, 18.22, 18.43, 18.55, 18.15, 17.85, 17.11, 17.15, 16.77, 16.75, 16.53, 17.05, 17.12, 16.73, 17.65, 17.44, 17.62, 18.1, 18.29, 18.53, 18.22, 18.48, 18.21, 17.99, 18.04, 18.1, 18.41, 18.35, 18.68, 18.17, 18.988, 19.38, 18.69, 18.45, 18.63, 18.37, 18.31, 18.68, 18.45, 18.6, 18.37, 17.57, 17.14, 16.5, 15.8, 15.9, 14.71, 14.7, 14.65, 14.58, 14.44, 14.37, 14.3, 14.49, 14.34, 14.3, 14.3, 14.36, 14.53, 14.61, 14.75, 14.97, 14.93, 15.05, 14.86, 15.0, 15.02, 15.06, 14.99, 14.5, 15.08, 15.11, 15.2, 15.08, 15.25, 15.2, 15.1, 15.23, 15.24, 15.19, 15.52, 15.75, 15.84, 15.77, 15.9, 16.0, 15.93, 15.95, 16.12, 16.4, 16.64, 16.36, 16.69, 16.85, 15.92, 15.63, 15.96, 17.05, 18.77, 18.0, 17.7, 17.72, 17.33, 17.84, 16.95, 16.57, 16.91, 16.86, 16.7, 16.61, 16.57, 16.82, 17.09, 17.01, 17.07, 17.38, 17.13, 17.46, 17.51, 17.22, 17.24, 16.91, 16.5, 16.31, 16.31, 16.39, 16.63, 16.52, 16.34, 16.82, 17.52, 18.23, 18.6, 18.76, 18.94, 19.4, 18.97, 19.48, 19.56, 19.5, 18.26, 18.31, 17.96, 18.0, 18.82, 18.2, 18.22, 18.0, 18.27, 18.45, 18.66, 18.72, 18.73, 18.7, 18.98, 19.15, 18.75, 18.35, 19.04, 17.96, 18.22, 18.11, 17.52, 17.55, 17.43, 17.84, 17.65, 17.7, 18.0, 17.58, 17.82, 17.6, 16.95, 17.04, 16.94, 16.86, 16.76, 17.88, 17.86, 18.19, 18.18, 17.49, 19.95, 20.46, 24.32, 23.75, 23.78, 23.02, 22.92, 23.42, 23.21, 21.79, 21.5, 18.52, 18.44, 18.3, 19.22, 18.9, 18.3, 17.93, 17.99, 17.96, 18.4, 18.81, 20.05, 19.74, 19.62, 19.37, 18.39, 18.59, 18.39, 18.4, 18.33, 18.8, 18.65, 18.95, 18.96, 19.56, 20.43, 20.78, 19.85, 19.71, 19.17, 18.67, 18.17, 18.25, 18.19, 17.57, 16.34, 16.61, 16.65, 16.39, 15.89, 16.34, 18.52, 18.43, 18.12, 18.57, 18.52, 18.51, 18.29, 17.98, 18.02, 18.21, 17.98, 17.59, 17.53, 17.24, 17.02, 17.25, 16.93, 16.8, 16.6, 16.24, 16.29, 16.24, 16.3, 16.27, 16.48, 16.34, 16.16, 15.9, 15.71, 14.82, 14.63, 14.45, 14.84, 15.07, 15.36, 15.22, 15.11, 15.04, 15.1, 15.12, 14.25, 14.45, 14.07, 14.22, 14.4, 14.2, 14.15, 14.35, 14.21, 14.09, 14.06, 14.63, 14.61, 14.17, 14.28, 14.12, 14.93, 13.95, 14.22, 14.73, 14.7, 14.85, 15.15, 17.21, 17.2, 17.33, 17.48, 16.94, 17.37, 17.71, 17.52, 17.38, 16.68, 16.5, 16.74, 17.12, 16.88, 17.12, 17.59, 16.0, 16.41, 16.4, 16.16, 15.69, 15.98, 15.94, 16.86, 16.75, 16.83, 17.08, 16.65, 16.33, 17.0, 16.81, 16.77, 17.69, 18.61, 19.1, 19.11, 19.45, 18.53, 17.85, 18.47, 17.96, 17.72, 17.93, 18.0, 18.56, 18.62, 18.16, 18.1, 16.47, 16.09, 14.54, 14.07, 14.55, 14.62, 15.51, 16.61, 16.4, 16.33, 17.22, 17.89, 16.64, 17.21, 17.01, 17.22, 16.8, 18.29, 17.44, 16.16, 18.18, 18.23, 18.55, 19.7, 19.87, 20.12, 20.51, 21.0, 21.62, 22.79, 22.64, 22.17, 22.45, 22.63, 22.9, 22.7, 22.68, 22.26, 23.02, 23.35, 24.47, 23.96, 24.52, 24.68, 25.91, 24.36, 24.98, 24.04, 24.99, 25.81, 25.48, 25.31, 25.39, 25.78, 25.98, 25.62, 25.17, 26.11, 26.32, 25.94, 25.17, 25.54, 25.33, 25.89, 26.08, 27.08, 26.81, 28.07, 28.58, 29.47, 29.36, 29.09, 28.54, 29.13, 30.58, 28.13, 31.02, 30.63, 29.97, 29.24, 29.5, 30.94, 31.15, 30.08, 29.46, 29.46, 29.55, 30.3, 30.9, 29.57, 28.35, 28.16, 26.99, 24.5, 26.47, 25.94, 25.23, 24.96, 26.84, 26.51, 26.97, 27.05, 27.98, 27.04, 27.54, 27.14, 27.04, 27.21, 27.63, 27.07, 27.17], [38.19, 39.87, 41.63, 43.67, 41.15, 40.58, 41.07, 40.39, 41.08, 40.55, 40.49, 39.26, 38.96, 38.89, 38.01, 37.97, 37.9, 37.82, 37.44, 37.28, 37.44, 37.14, 37.69, 36.79, 36.35, 36.39, 36.4, 36.72, 37.16, 36.61, 36.85, 37.54, 38.44, 36.94, 37.01, 37.06, 35.81, 35.28, 35.67, 34.38, 33.82, 35.4, 35.72, 35.41, 32.99, 32.34, 30.87, 30.81, 29.79, 29.49, 29.05, 31.37, 31.73, 32.91, 33.47, 33.41, 34.03, 34.34, 34.63, 34.11, 33.4, 33.03, 35.14, 35.92, 36.64, 34.87, 33.72, 34.88, 32.26, 31.89, 30.97, 31.6, 33.07, 34.01, 32.62, 32.34, 32.23, 29.88, 29.64, 29.0, 28.56, 28.13, 29.15, 29.69, 29.93, 28.77, 27.68, 28.07, 28.23, 27.84, 28.68, 31.09, 28.79, 30.0, 28.74, 27.86, 28.44, 25.75, 27.01, 26.7, 26.55, 27.51, 27.94, 27.21, 27.77, 27.86, 25.61, 24.93, 23.09, 23.02, 23.32, 24.56, 25.59, 25.29, 26.41, 25.97, 25.85, 24.69, 23.95, 24.13, 22.0, 24.48, 24.04, 29.29, 26.78, 31.3, 34.31, 32.46, 33.46, 34.97, 36.0, 34.93, 35.82, 33.2, 33.01, 34.63, 35.21, 35.89, 38.31, 39.05, 38.77, 38.06, 36.91, 37.16, 36.79, 35.65, 35.96, 37.03, 38.41, 33.39, 33.96, 33.07, 32.48, 33.22, 33.63, 33.42, 32.78, 33.19, 33.89, 34.02, 34.09, 34.22, 34.19, 33.23, 32.82, 32.69, 32.78, 33.22, 33.05, 32.54, 31.64, 31.52, 32.3, 32.05, 32.03, 32.55, 32.63, 32.5, 32.43, 32.13, 32.03, 31.68, 30.7, 30.97, 30.39, 30.3, 30.55, 29.84, 30.21, 30.19, 30.04, 30.0, 29.97, 30.42, 30.91, 31.17, 30.96, 30.54, 30.03, 29.79, 29.17, 29.44, 29.49, 29.25, 28.89, 29.08, 29.05, 29.34, 29.21, 29.05, 29.54, 29.81, 30.05, 29.62, 29.97, 29.86, 29.85, 30.06, 30.3, 30.75, 38.83, 38.81, 40.09, 38.99, 39.61, 39.91, 40.28, 39.78, 40.36, 39.54, 39.5, 39.7, 40.8, 40.36, 40.0, 39.7, 40.25, 41.2, 41.35, 42.44, 42.5, 41.42, 43.38, 43.23, 42.93, 43.24, 43.24, 42.76, 42.63, 43.2, 43.25, 43.25, 44.26, 45.42, 45.3, 43.36, 41.96, 42.65, 42.49, 41.68, 42.14, 41.44, 41.0, 42.18, 42.8, 42.29, 41.7, 40.58, 40.09, 40.65, 41.81, 40.48, 41.53, 42.07, 41.73, 41.32, 40.37, 42.85, 42.08, 42.31, 41.0, 41.5, 41.52, 38.12, 38.73, 37.9, 37.58, 36.77, 37.66, 37.7, 37.99, 38.68, 37.84, 37.21, 37.47, 37.65, 36.45, 36.25, 36.02, 36.22, 36.08, 34.9, 34.75, 35.22, 34.72, 35.58, 35.02, 35.44, 36.29, 36.65, 36.44, 36.15, 36.34, 37.49, 37.21, 37.64, 37.93, 36.59, 36.33, 36.1, 34.43, 36.44, 37.14, 36.85, 37.29, 37.41, 37.19, 38.58, 37.47, 37.15, 37.5, 38.3, 37.9, 36.93, 36.59, 38.45, 38.79, 38.58, 38.62, 40.23, 40.8, 39.95, 39.29, 39.91, 39.78, 38.67, 38.48, 39.29, 39.77, 34.39, 34.4, 34.48, 34.46, 34.71, 34.37, 34.58, 34.75, 35.14, 34.86, 34.72, 34.42, 34.38, 33.75, 33.44, 32.88, 32.87, 32.28, 33.06, 32.59, 33.02, 32.61, 32.57, 31.27, 31.08, 31.22, 31.03, 31.3, 31.16, 30.87, 30.04, 30.12, 30.8, 31.03, 30.5, 30.62, 30.78, 30.41, 31.01, 31.99, 31.71, 30.76, 31.37, 31.65, 31.23, 30.96, 31.12, 30.39, 30.23, 30.01, 30.8, 34.16, 34.37, 33.94, 33.19, 33.56, 32.26, 31.64, 33.13, 32.9, 31.61, 30.97, 32.25, 33.27, 32.85, 32.47, 33.02, 32.37, 32.87, 33.09, 32.25, 31.8, 31.34, 29.95, 27.99, 28.81, 28.74, 28.43, 28.68, 28.66, 26.45, 27.31, 29.29, 32.93, 33.74, 33.43, 35.87, 35.89, 36.25, 34.45, 33.43, 32.83, 32.96, 32.56, 33.66, 31.45, 31.3, 32.73, 32.61, 32.82, 31.12, 31.61, 31.06, 31.98, 33.67, 33.15, 32.91, 32.49, 32.01, 34.08, 34.18, 34.99, 34.42, 34.02, 34.3, 34.62, 34.75, 33.86, 32.39, 32.36, 31.8, 27.54, 28.77, 29.18, 28.83, 29.29, 29.55, 29.87, 28.61, 27.99, 27.0, 26.79, 29.27, 28.45, 28.39, 28.23, 29.01, 28.19, 28.31, 28.46, 29.42, 29.01, 29.11, 28.6, 28.5, 29.85, 29.52, 29.22, 28.86, 30.12, 30.39, 29.75, 30.89, 30.54, 30.49, 30.81, 32.73, 34.84, 35.18, 35.64, 35.35, 35.49, 35.89, 34.28, 33.88, 33.81, 33.69, 32.6, 32.73, 32.83, 32.38, 33.19, 32.8, 32.01, 31.96, 31.84, 32.67, 32.98, 31.96, 32.82, 31.91, 31.87, 31.38, 34.12, 42.94, 44.22, 42.17, 43.31, 43.42, 43.44, 43.34, 44.71, 44.26, 44.49, 45.26, 43.87, 43.75, 44.14, 46.65, 45.06, 43.89, 44.98, 43.67, 44.79, 43.7, 44.84, 44.17, 45.88, 45.24, 46.13, 44.95, 46.0, 45.8, 46.76, 44.07, 43.49, 41.42, 41.21, 39.7, 40.1, 39.8, 37.88, 36.65, 34.7, 34.36, 34.04, 33.63, 33.52, 33.42, 32.86, 33.63, 32.63, 32.58, 32.77, 32.75, 33.39, 32.75, 32.87, 32.46, 31.85, 31.33, 31.04, 30.67, 30.55, 30.3, 30.31, 29.0, 30.27, 29.75, 30.47, 31.22, 31.91, 31.54, 31.54, 31.84, 28.58, 28.76, 29.0, 29.39, 29.53, 28.01, 28.1, 28.64, 28.25, 27.54, 28.04, 29.01, 28.45, 28.07, 31.91, 31.03, 31.2, 32.73, 31.35, 34.98, 35.58, 35.8, 36.6, 34.11, 35.5, 35.35, 34.85, 35.76, 34.43, 34.58, 33.0, 32.24, 31.86, 31.32, 32.16, 32.66, 32.11, 33.38, 32.84, 33.06, 33.61, 33.75, 33.44, 30.95, 31.51, 30.18, 26.91, 25.24, 25.13, 25.92, 27.14, 25.81, 25.62, 25.18, 24.27, 22.16, 22.37, 22.75, 23.32, 23.66, 24.04, 24.56, 24.66, 25.41, 24.35, 24.25, 24.17, 24.59, 24.32, 23.99, 24.45, 24.51, 24.01, 24.31, 24.23, 24.26, 24.46, 25.05, 25.2, 25.08, 24.68, 22.23, 22.58, 21.66, 21.65, 22.05, 21.1, 21.01, 21.09, 20.77, 20.4, 20.71, 20.58, 20.79, 21.83, 21.82, 22.42, 22.27, 21.88, 21.13, 20.76, 20.36, 19.91, 20.05, 20.17, 20.32, 19.9, 19.59, 19.66, 19.39, 19.9, 19.71, 20.61, 20.62, 21.25, 21.68, 20.31, 17.14, 17.25, 17.37, 17.87, 17.89, 18.02, 18.28, 18.33, 18.63, 18.45, 17.73, 17.41, 17.67, 17.85, 18.25, 17.75, 17.59, 17.09, 16.87, 16.85, 16.95, 16.59, 16.98, 17.61, 17.58, 17.62, 17.76, 17.6, 18.01, 18.21, 18.2, 18.17, 17.66, 17.45, 17.22, 16.83, 16.65, 16.86, 16.91, 16.93, 16.93, 16.77, 16.65, 16.89, 16.96, 16.63, 16.11, 15.99, 15.87, 16.16, 15.95, 16.09, 15.92, 15.75, 16.14, 16.15, 16.4, 16.29, 16.18, 16.07, 16.21, 16.09, 16.75, 16.84, 19.61, 19.97, 20.0, 20.11, 20.53, 20.12, 19.98, 19.94, 19.64, 19.32, 19.25, 18.64, 18.08, 18.02, 17.92, 17.82, 17.65, 17.87, 17.65, 17.95, 18.12, 18.29, 18.5, 18.15, 17.78, 16.91, 17.06, 16.67, 16.83, 16.76, 16.97, 17.04, 16.9, 17.59, 17.44, 17.57, 18.23, 18.31, 18.53, 18.32, 18.43, 18.23, 17.95, 17.98, 18.15, 18.43, 18.35, 18.51, 18.28, 19.49, 19.23, 18.61, 18.39, 18.54, 18.37, 18.31, 18.69, 18.48, 18.57, 18.24, 17.54, 16.48, 16.61, 15.82, 14.66, 14.71, 14.63, 14.65, 14.54, 14.44, 14.4, 14.3, 14.42, 14.31, 14.36, 14.29, 14.39, 14.53, 14.69, 14.84, 14.95, 14.92, 15.04, 14.94, 14.99, 15.14, 14.93, 14.98, 14.54, 15.09, 15.08, 15.19, 15.03, 15.32, 15.21, 15.12, 15.22, 15.24, 15.18, 15.56, 15.75, 15.79, 15.79, 15.77, 16.06, 15.98, 16.03, 16.08, 16.42, 16.62, 16.35, 16.74, 16.52, 15.81, 15.58, 16.41, 18.72, 18.26, 17.93, 17.61, 17.78, 17.24, 17.62, 16.94, 16.57, 16.81, 16.73, 16.52, 16.61, 16.58, 16.79, 17.11, 16.96, 17.25, 17.38, 17.3, 17.37, 17.5, 17.17, 17.09, 16.86, 16.44, 16.3, 16.39, 16.39, 16.61, 16.5, 16.41, 17.08, 17.92, 18.24, 18.63, 18.79, 18.93, 19.37, 18.93, 19.65, 19.64, 19.48, 18.23, 18.23, 17.93, 18.03, 18.49, 18.19, 18.3, 18.06, 18.22, 18.63, 18.6, 18.73, 18.55, 18.63, 18.98, 19.14, 18.55, 18.37, 19.13, 18.38, 18.41, 18.02, 17.58, 17.61, 17.49, 17.95, 17.66, 17.4, 17.29, 17.26, 18.03, 18.09, 16.9, 17.07, 16.83, 16.73, 16.88, 17.79, 18.05, 18.0, 17.56, 19.85, 19.87, 24.87, 23.52, 24.0, 23.05, 23.01, 22.96, 23.72, 23.37, 22.62, 18.63, 18.49, 18.39, 18.36, 19.11, 18.3, 18.08, 17.76, 18.15, 18.11, 18.7, 19.87, 19.93, 19.55, 19.5, 19.21, 18.38, 18.47, 18.3, 18.32, 18.25, 18.69, 18.55, 18.98, 19.0, 20.17, 20.4, 20.86, 19.54, 19.78, 19.04, 18.68, 18.2, 18.26, 18.13, 17.61, 16.42, 16.64, 16.64, 16.31, 15.77, 18.45, 18.65, 18.37, 18.39, 18.56, 18.33, 18.65, 18.08, 17.96, 17.74, 18.1, 17.71, 18.08, 17.37, 17.2, 17.14, 17.28, 16.91, 16.83, 16.42, 15.84, 16.44, 17.04, 16.13, 16.32, 16.34, 16.1, 15.87, 15.96, 15.36, 14.55, 14.02, 14.6, 14.95, 15.0, 15.27, 15.2, 15.2, 15.02, 15.22, 15.1, 14.3, 14.41, 14.03, 14.41, 14.43, 14.15, 14.14, 14.34, 14.29, 14.1, 14.08, 14.59, 14.63, 14.2, 14.4, 14.12, 14.84, 14.01, 14.4, 14.62, 14.64, 14.86, 17.75, 17.09, 17.23, 17.51, 17.4, 16.92, 17.31, 17.58, 17.53, 17.37, 16.57, 16.51, 16.65, 16.98, 17.26, 17.05, 17.09, 15.98, 16.55, 16.36, 15.97, 15.6, 15.91, 16.01, 16.86, 16.89, 16.85, 16.85, 16.7, 16.19, 17.12, 16.81, 16.61, 17.66, 18.33, 19.17, 19.36, 19.31, 18.54, 17.85, 18.12, 17.94, 17.59, 18.0, 18.3, 18.3, 18.31, 18.43, 17.46, 16.36, 15.88, 14.31, 14.98, 14.4, 14.9, 15.72, 16.91, 16.56, 16.08, 17.91, 16.8, 16.49, 16.78, 17.01, 17.02, 17.84, 17.83, 17.38, 16.69, 17.94, 19.0, 18.68, 19.62, 19.65, 19.98, 20.26, 21.39, 21.92, 22.56, 23.14, 22.23, 22.47, 22.53, 22.97, 22.67, 22.56, 22.14, 22.99, 23.31, 24.3, 23.95, 24.92, 24.84, 25.91, 24.31, 24.99, 24.46, 25.02, 25.9, 25.4, 25.53, 25.4, 25.75, 26.06, 25.52, 25.2, 26.27, 26.32, 25.9, 25.23, 25.41, 25.18, 26.13, 26.5, 27.05, 27.09, 28.28, 28.66, 29.36, 29.13, 29.2, 28.46, 29.06, 30.87, 31.34, 30.89, 30.28, 29.15, 29.3, 30.91, 30.91, 31.15, 29.71, 29.38, 29.06, 28.75, 30.85, 30.32, 29.83, 27.62, 28.15, 26.31, 24.68, 26.94, 25.59, 25.26, 25.29, 26.6, 26.79, 26.83, 27.38, 27.96, 27.41, 27.75, 27.17, 26.9, 27.39, 27.71, 27.18])\n",
      "xlabel: Attributes\n",
      "ylabel: Values\n",
      "title: Boxplot of Open and Close Attributes\n"
     ]
    }
   ],
   "source": [
    "import pandas as pd\n",
    "import matplotlib.pyplot as plt\n",
    "import seaborn as sns\n",
    "\n",
    "def boxplot():\n",
    "    '''\n",
    "    Input: None (Uses data from './data/HistoricalQuotes.csv')\n",
    "    Output: A boxplot with Open and Close attributes on the x-axis displayed\n",
    "    \n",
    "    Returns:\n",
    "    - x_data: A tuple of Open and Close values respectively as python lists.\n",
    "    - xlabel: A string representing the x-axis label.\n",
    "    - ylabel: A string representing the y-axis label.\n",
    "    - title: A string representing the title of the graph.\n",
    "    '''\n",
    "\n",
    "    # Read the dataset\n",
    "    df = pd.read_csv('./data/HistoricalQuotes.csv')\n",
    "\n",
    "    # Extract Open and Close values\n",
    "    x_data = (list(df['Open']), list(df['Close']))\n",
    "\n",
    "    # Define labels and title\n",
    "    xlabel = 'Attributes'\n",
    "    ylabel = 'Values'\n",
    "    title = 'Boxplot of Open and Close Attributes'\n",
    "\n",
    "    # Create the boxplot\n",
    "    plt.figure(figsize=(14, 7))\n",
    "    sns.boxplot(data=x_data, palette='Set3')\n",
    "    plt.xlabel(xlabel)\n",
    "    plt.ylabel(ylabel)\n",
    "    plt.title(title)\n",
    "    plt.grid(False)\n",
    "    plt.show()\n",
    "\n",
    "    return x_data, xlabel, ylabel, title\n",
    "\n",
    "# Call the boxplot function to display the boxplot and get the return values\n",
    "x_data, xlabel, ylabel, title = boxplot()\n",
    "\n",
    "# Print the return values for reference\n",
    "print(\"x_data:\", x_data)\n",
    "print(\"xlabel:\", xlabel)\n",
    "print(\"ylabel:\", ylabel)\n",
    "print(\"title:\", title)\n"
   ]
  },
  {
   "cell_type": "code",
   "execution_count": null,
   "metadata": {
    "deletable": false,
    "editable": false,
    "nbgrader": {
     "cell_type": "code",
     "checksum": "fdca2d2c76a46b748804df557feadf39",
     "grade": true,
     "grade_id": "cell-34f53d2a937e45f2",
     "locked": true,
     "points": 1,
     "schema_version": 3,
     "solution": false,
     "task": false
    }
   },
   "outputs": [],
   "source": [
    "'''\n",
    "This cell has hidden test cases that will run after you submit your assignment. \n",
    "You can troubleshoot by calling the function and checking return types.\n",
    "'''\n"
   ]
  },
  {
   "cell_type": "code",
   "execution_count": 56,
   "metadata": {
    "deletable": false,
    "nbgrader": {
     "cell_type": "code",
     "checksum": "6ab525c41e6e239d86036fcebe088341",
     "grade": false,
     "grade_id": "cell-6e477222af744e1e",
     "locked": false,
     "schema_version": 3,
     "solution": true,
     "task": false
    }
   },
   "outputs": [
    {
     "data": {
      "image/png": "[encoded data removed]",
      "text/plain": [
       "<Figure size 1008x504 with 1 Axes>"
      ]
     },
     "metadata": {
      "needs_background": "light"
     },
     "output_type": "display_data"
    }
   ],
   "source": [
    "import matplotlib\n",
    "import matplotlib.pyplot as plt\n",
    "import pandas as pd\n",
    "\n",
    "\n",
    "def histogram():\n",
    "    '''\n",
    "    Input: None (Uses data from './data/HistoricalQuotes.csv')\n",
    "    Output: A histogram of the Volume attribute displayed\n",
    "    Return: data - A python list containing the data associated with the Volume attribute\n",
    "    '''\n",
    "    df = pd.read_csv('./data/HistoricalQuotes.csv')\n",
    "    data = df['Volume'].tolist()  # Convert the data to a Python list\n",
    "    x_label = 'Volume'\n",
    "    y_label = 'Frequency'\n",
    "    title = 'Histogram of Volume Attribute'\n",
    "    \n",
    "    plt.figure(figsize=(14, 7))\n",
    "    plt.hist(data, bins=30, color='green', alpha=0.7)\n",
    "    plt.xlabel(x_label)\n",
    "    plt.ylabel(y_label)\n",
    "    plt.title(title)\n",
    "    plt.grid(False)\n",
    "    plt.show()\n",
    "    \n",
    "    return data, x_label, y_label\n",
    "\n",
    "# Call the histogram function to display the histogram and return the data, x_label, and y_label\n",
    "data, x_label, y_label = histogram()\n"
   ]
  },
  {
   "cell_type": "code",
   "execution_count": null,
   "metadata": {
    "deletable": false,
    "editable": false,
    "nbgrader": {
     "cell_type": "code",
     "checksum": "a4c6c8e00948adc5769275f48e7bd2d3",
     "grade": true,
     "grade_id": "cell-9719ed64b0c27717",
     "locked": true,
     "points": 1,
     "schema_version": 3,
     "solution": false,
     "task": false
    }
   },
   "outputs": [],
   "source": [
    "'''\n",
    "This cell has hidden test cases that will run after you submit your assignment. \n",
    "You can troubleshoot by calling the function and checking return types.\n",
    "'''\n"
   ]
  },
  {
   "cell_type": "code",
   "execution_count": 68,
   "metadata": {},
   "outputs": [],
   "source": [
    "\n",
    "\n",
    "def amzn_new_plot(data_df):\n",
    "    '''Define this function as you would seem fit to display the plot that interests you using\n",
    "    the same dataset. Define your function parameters and display the resulting plots'''   \n",
    "    \n",
    "    # your code here\n",
    "    import matplotlib.pyplot as plt\n",
    "    df = pd.read_csv('./data/HistoricalQuotes.csv')\n",
    "    \n",
    "    data = list(df.loc[:,data_df])\n",
    "    plt.hist(data)\n",
    "    plt.show()\n",
    "\n"
   ]
  },
  {
   "cell_type": "code",
   "execution_count": 69,
   "metadata": {},
   "outputs": [
    {
     "data": {
      "image/png": "[encoded data removed]",
      "text/plain": [
       "<Figure size 1008x504 with 1 Axes>"
      ]
     },
     "metadata": {
      "needs_background": "light"
     },
     "output_type": "display_data"
    }
   ],
   "source": [
    "amzn_new_plot(\"Open\")"
   ]
  },
  {
   "cell_type": "code",
   "execution_count": null,
   "metadata": {},
   "outputs": [],
   "source": []
  }
 ],
 "metadata": {
  "hide_input": false,
  "kernelspec": {
   "display_name": "Python 3",
   "language": "python",
   "name": "python3"
  },
  "language_info": {
   "codemirror_mode": {
    "name": "ipython",
    "version": 3
   },
   "file_extension": ".py",
   "mimetype": "text/x-python",
   "name": "python",
   "nbconvert_exporter": "python",
   "pygments_lexer": "ipython3",
   "version": "3.7.6"
  },
  "latex_envs": {
   "LaTeX_envs_menu_present": true,
   "autoclose": false,
   "autocomplete": true,
   "bibliofile": "biblio.bib",
   "cite_by": "apalike",
   "current_citInitial": 1,
   "eqLabelWithNumbers": true,
   "eqNumInitial": 1,
   "hotkeys": {
    "equation": "Ctrl-E",
    "itemize": "Ctrl-I"
   },
   "labels_anchors": false,
   "latex_user_defs": false,
   "report_style_numbering": false,
   "user_envs_cfg": false
  },
  "nbTranslate": {
   "displayLangs": [
    "*"
   ],
   "hotkey": "alt-t",
   "langInMainMenu": true,
   "sourceLang": "en",
   "targetLang": "fr",
   "useGoogleTranslate": true
  },
  "toc": {
   "base_numbering": 1,
   "nav_menu": {},
   "number_sections": true,
   "sideBar": true,
   "skip_h1_title": false,
   "title_cell": "Table of Contents",
   "title_sidebar": "Contents",
   "toc_cell": false,
   "toc_position": {},
   "toc_section_display": true,
   "toc_window_display": false
  },
  "varInspector": {
   "cols": {
    "lenName": 16,
    "lenType": 16,
    "lenVar": 40
   },
   "kernels_config": {
    "python": {
     "delete_cmd_postfix": "",
     "delete_cmd_prefix": "del ",
     "library": "var_list.py",
     "varRefreshCmd": "print(var_dic_list())"
    },
    "r": {
     "delete_cmd_postfix": ") ",
     "delete_cmd_prefix": "rm(",
     "library": "var_list.r",
     "varRefreshCmd": "cat(var_dic_list()) "
    }
   },
   "types_to_exclude": [
    "module",
    "function",
    "builtin_function_or_method",
    "instance",
    "_Feature"
   ],
   "window_display": false
  }
 },
 "nbformat": 4,
 "nbformat_minor": 2
}
